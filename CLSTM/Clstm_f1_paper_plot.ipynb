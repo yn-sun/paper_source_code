{
 "cells": [
  {
   "cell_type": "code",
   "execution_count": 13,
   "metadata": {},
   "outputs": [],
   "source": [
    "import matplotlib.pyplot as plt\n",
    "import matplotlib.pylab as pylab\n",
    "import scipy.io\n",
    "import numpy as np\n",
    "import pickle\n",
    "#import seaborn\n",
    "fileName=\"Train_Record.pkl\"\n",
    "lstm_path1=\"../5_rawNewPaper/compare_4feature_LSTM/\"+fileName\n",
    "gru_path1=\"../5_rawNewPaper/compare_4feature_GRU/\"+fileName\n",
    "dbilstm_path1=\"../4_NewPaper_revision/compare_6feature_bilstm_/\"+fileName\n",
    "dlstm_path1=\"../4_NewPaper_revision/compare_6feature_lstm_/\"+fileName\n",
    "clstm_path1=\"./CommonOn_NewPaper/\"+\"clstm_3_1_dia=1.pkl\"\n",
    "cnn_path1=\"./CommonOn_NewPaper/\"+\"cnn2_2.pkl\"\n",
    "#clstm_path2=\"CommonOn_NewPaper/\"+\"train_record_start2_8_800HZ.pkl\"\n",
    "params={\n",
    "    'axes.labelsize': '22',\n",
    "    'xtick.labelsize':'22',\n",
    "    'ytick.labelsize':'22',\n",
    "    'lines.linewidth':2.5 ,\n",
    "    'legend.fontsize': '22',\n",
    "    'figure.figsize'   : '12,8'    # set figure size\n",
    "}"
   ]
  },
  {
   "cell_type": "code",
   "execution_count": 8,
   "metadata": {},
   "outputs": [
    {
     "name": "stdout",
     "output_type": "stream",
     "text": [
      "(3, 5, 199)\n",
      "(3, 5, 199)\n",
      "(3, 5, 29)\n",
      "(3, 5, 29)\n"
     ]
    }
   ],
   "source": [
    "\n",
    "def process_old_data(Path):\n",
    "    with open(Path, 'rb') as f:\n",
    "        u = pickle._Unpickler(f)\n",
    "        u.encoding = 'latin1'\n",
    "        all_score, all_loss = u.load()\n",
    "    _all_score=np.asarray(all_score[6])\n",
    "    #print(_all_score.shape)\n",
    "    _all_score=_all_score.squeeze()\n",
    "    x=np.transpose(_all_score,(1,2,0))\n",
    "    print(x.shape)\n",
    "    return x\n",
    "def process_new_data(Path):\n",
    "    with open(Path, 'rb') as f:\n",
    "        u = pickle._Unpickler(f)\n",
    "        u.encoding = 'latin1'\n",
    "        all_score, all_loss = u.load()\n",
    "    _all_score=np.asarray(all_score)\n",
    "    #print(_all_score.shape)\n",
    "    _all_score=_all_score.squeeze()\n",
    "    x=np.transpose(_all_score,(1,2,0))\n",
    "    print(x.shape)\n",
    "    return x\n",
    "lstm=process_old_data(lstm_path1)\n",
    "gru=process_old_data(gru_path1)\n",
    "dlstm=process_old_data(dlstm_path1)\n",
    "dbilstm=process_old_data(dbilstm_path1)"
   ]
  },
  {
   "cell_type": "code",
   "execution_count": 10,
   "metadata": {},
   "outputs": [
    {
     "name": "stdout",
     "output_type": "stream",
     "text": [
      "(1, 29)\n",
      "(1, 484)\n"
     ]
    }
   ],
   "source": [
    "import librosa \n",
    "dbilstm_=dbilstm[0][4]\n",
    "dbilstm_=dbilstm_.reshape((1,-1))\n",
    "dbilstm_=np.asfortranarray(dbilstm_)\n",
    "print(dbilstm_.shape)\n",
    "dbilstm_ = librosa.resample(dbilstm_, 3, 50)\n",
    "print(dbilstm_.shape)"
   ]
  },
  {
   "cell_type": "code",
   "execution_count": 14,
   "metadata": {},
   "outputs": [
    {
     "name": "stdout",
     "output_type": "stream",
     "text": [
      "(3, 5, 500)\n",
      "(1, 500)\n"
     ]
    }
   ],
   "source": [
    "\n",
    "cnn=process_new_data(cnn_path1)\n",
    "\n",
    "cnn_=cnn[0][4]\n",
    "cnn_=cnn_.reshape((1,-1))\n",
    "cnn_=np.asfortranarray(cnn_)\n",
    "print(cnn_.shape)\n",
    "cnn_ = librosa.resample(cnn_, 50, 25)"
   ]
  },
  {
   "cell_type": "code",
   "execution_count": 15,
   "metadata": {},
   "outputs": [
    {
     "name": "stdout",
     "output_type": "stream",
     "text": [
      "(3, 5, 500)\n",
      "(1, 500)\n"
     ]
    }
   ],
   "source": [
    "import librosa \n",
    "clstm=process_new_data(clstm_path1)\n",
    "\n",
    "clstm_=clstm[0][4]\n",
    "clstm_=clstm_.reshape((1,-1))\n",
    "clstm_=np.asfortranarray(clstm_)\n",
    "print(clstm_.shape)\n",
    "clstm_ = librosa.resample(clstm_, 50, 25)"
   ]
  },
  {
   "cell_type": "code",
   "execution_count": 32,
   "metadata": {},
   "outputs": [
    {
     "data": {
      "image/png": "[encoded data removed]",
      "text/plain": [
       "<Figure size 432x288 with 1 Axes>"
      ]
     },
     "metadata": {
      "needs_background": "light"
     },
     "output_type": "display_data"
    }
   ],
   "source": [
    "import matplotlib.pyplot as plt\n",
    "%matplotlib inline\n",
    "\n",
    "plt.plot(lstm[0][4],label=\"DRNN (BiLSTM)\")\n",
    "plt.plot(gru[0][4],label=\"DRNN (BiGRU)\")\n",
    "#plt.plot(dbilstm_.T[:200],label=\"Duration-LSTM\")\n",
    "plt.plot(cnn_.T[:200],label=\"CNN\")\n",
    "plt.plot(clstm_.T[:200],'r',label=\"CLSTM\")\n",
    "\n",
    "plt.legend(loc='best')\n",
    "plt.xlabel('Epochs')\n",
    "plt.ylabel('F1 Score')\n",
    "#plt.show()\n",
    "plt.savefig(\"clstm_3.pdf\",dpi = 1000,bbox_inches='tight')"
   ]
  },
  {
   "cell_type": "code",
   "execution_count": null,
   "metadata": {},
   "outputs": [],
   "source": []
  }
 ],
 "metadata": {
  "kernelspec": {
   "display_name": "Python 3",
   "language": "python",
   "name": "python3"
  },
  "language_info": {
   "codemirror_mode": {
    "name": "ipython",
    "version": 3
   },
   "file_extension": ".py",
   "mimetype": "text/x-python",
   "name": "python",
   "nbconvert_exporter": "python",
   "pygments_lexer": "ipython3",
   "version": "3.6.9"
  }
 },
 "nbformat": 4,
 "nbformat_minor": 2
}
