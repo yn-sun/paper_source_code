{
 "cells": [
  {
   "cell_type": "code",
   "execution_count": 1,
   "metadata": {},
   "outputs": [],
   "source": [
    "import matplotlib.pyplot as plt\n",
    "import matplotlib.pylab as pylab\n",
    "import scipy.io\n",
    "import numpy as np\n",
    "import pickle\n",
    "#import seaborn\n",
    "fileName=\"Train_Record.pkl\"\n",
    "lstm_path1=\"../5_rawNewPaper/compare_4feature_LSTM/\"+fileName\n",
    "gru_path1=\"../5_rawNewPaper/compare_4feature_GRU/\"+fileName\n",
    "dbilstm_path1=\"../4_NewPaper_revision/compare_6feature_bilstm_/\"+fileName\n",
    "dlstm_path1=\"../4_NewPaper_revision/compare_6feature_lstm_/\"+fileName\n",
    "clstm_path1=\"./CommonOn_NewPaper/\"+\"clstm_3_1_dia=1.pkl\"\n",
    "#clstm_path1=\"../5_rawNewPaper/\"+\"Train_Record70.pkl\"\n",
    "cnn_path1=\"./CommonOn_NewPaper/\"+\"cnn2_2.pkl\"\n",
    "params={\n",
    "    'axes.labelsize': '22',\n",
    "    'xtick.labelsize':'22',\n",
    "    'ytick.labelsize':'22',\n",
    "    'lines.linewidth':2.5 ,\n",
    "    'legend.fontsize': '22',\n",
    "    'figure.figsize'   : '12,8'    # set figure size\n",
    "}"
   ]
  },
  {
   "cell_type": "code",
   "execution_count": 2,
   "metadata": {},
   "outputs": [
    {
     "name": "stdout",
     "output_type": "stream",
     "text": [
      "(199, 1)\n",
      "(199, 1)\n",
      "(29, 1)\n",
      "(29, 1)\n"
     ]
    }
   ],
   "source": [
    "\n",
    "def process_old_data(Path):\n",
    "    with open(Path, 'rb') as f:\n",
    "        u = pickle._Unpickler(f)\n",
    "        u.encoding = 'latin1'\n",
    "        all_score, all_loss = u.load()\n",
    "    x=np.array(all_loss)\n",
    "    x=np.mean(all_loss,0)\n",
    "    print(x.shape)\n",
    "    return x\n",
    "def process_new_data(Path):\n",
    "    with open(Path, 'rb') as f:\n",
    "        u = pickle._Unpickler(f)\n",
    "        u.encoding = 'latin1'\n",
    "        all_score, all_loss = u.load()\n",
    "    return x\n",
    "lstm=process_old_data(lstm_path1)\n",
    "gru=process_old_data(gru_path1)\n",
    "dlstm=process_old_data(dlstm_path1)\n",
    "dbilstm=process_old_data(dbilstm_path1)"
   ]
  },
  {
   "cell_type": "code",
   "execution_count": 51,
   "metadata": {},
   "outputs": [
    {
     "name": "stdout",
     "output_type": "stream",
     "text": [
      "(1, 29)\n",
      "(29,)\n"
     ]
    }
   ],
   "source": [
    "import librosa \n",
    "dbilstm_=dbilstm\n",
    "dbilstm_=dbilstm_.reshape((1,-1))\n",
    "dbilstm_=np.asfortranarray(dbilstm_)\n",
    "print(dbilstm_.shape)\n",
    "dbilstm_s=[]\n",
    "for i in dbilstm_[0]:\n",
    "        dbilstm_s.append(i*7)\n",
    "dbilstm_s=np.array(dbilstm_s)    \n",
    "print(dbilstm_s.shape)"
   ]
  },
  {
   "cell_type": "code",
   "execution_count": 44,
   "metadata": {},
   "outputs": [
    {
     "name": "stdout",
     "output_type": "stream",
     "text": [
      "(1500,)\n",
      "(199,)\n"
     ]
    }
   ],
   "source": [
    "import torch\n",
    "from torch.utils.data import Dataset, DataLoader\n",
    "from torchvision import transforms, utils\n",
    "cnn=process_old_data(cnn_path1)\n",
    "def process_torch(cnn):\n",
    "    y=[]\n",
    "    for i in cnn:\n",
    "        y.append(i.cpu().detach().numpy().tolist())\n",
    "    return y\n",
    "cnn_=process_torch(cnn)\n",
    "#print(cnn_)\n",
    "\n",
    "cnn_s=[]\n",
    "max=200\n",
    "for i in range(1,max):\n",
    "    j=len(cnn_)//max\n",
    "    cnn_s.append(np.mean(cnn_[i*j-50:i*j+50]))\n",
    "cnn_s=np.asarray(cnn_s)\n",
    "print(cnn_s.shape)\n"
   ]
  },
  {
   "cell_type": "code",
   "execution_count": 45,
   "metadata": {},
   "outputs": [
    {
     "name": "stdout",
     "output_type": "stream",
     "text": [
      "(9000,)\n",
      "(199,)\n"
     ]
    }
   ],
   "source": [
    "import torch\n",
    "from torch.utils.data import Dataset, DataLoader\n",
    "from torchvision import transforms, utils\n",
    "clstm=process_old_data(clstm_path1)\n",
    "clstm_=process_torch(clstm)\n",
    "#print(cnn_)\n",
    "\n",
    "clstm_s=[]\n",
    "max=200\n",
    "for i in range(1,max):\n",
    "    j=len(cnn_)//max\n",
    "    clstm_s.append(np.mean(clstm_[i*j-100:i*j+100]))\n",
    "clstm_s=np.asarray(clstm_s)\n",
    "print(clstm_s.shape)"
   ]
  },
  {
   "cell_type": "code",
   "execution_count": 46,
   "metadata": {},
   "outputs": [],
   "source": [
    "# import torch\n",
    "# from torch.utils.data import Dataset, DataLoader\n",
    "# from torchvision import transforms, utils\n",
    "# clstm=process_old_data(clstm_path1)\n",
    "# clstm_=clstm\n",
    "# clstm_=clstm_.reshape((1,-1))\n",
    "# clstm_=np.asfortranarray(clstm_)\n",
    "# print(clstm_.shape)\n"
   ]
  },
  {
   "cell_type": "code",
   "execution_count": 58,
   "metadata": {},
   "outputs": [
    {
     "data": {
      "image/png": "[encoded data removed]",
      "text/plain": [
       "<Figure size 432x288 with 1 Axes>"
      ]
     },
     "metadata": {
      "needs_background": "light"
     },
     "output_type": "display_data"
    }
   ],
   "source": [
    "import matplotlib.pyplot as plt\n",
    "%matplotlib inline\n",
    "#plt.plot(clstm_.T[:200],label=\"clstm\")\n",
    "plt.plot(lstm,label=\"DRNN (BiLSTM)\")\n",
    "plt.plot(gru,label=\"DRNN (BiGRU)\")\n",
    "#plt.plot(dbilstm_s.T,label=\"Duration-LSTM\")\n",
    "plt.plot(cnn_s.T[:200],label=\"CNN\")\n",
    "plt.plot(clstm_s.T[:200],'r',label=\"CLSTM\")\n",
    "plt.legend(loc='best')\n",
    "plt.xlabel('Epochs')\n",
    "plt.ylabel('Loss')\n",
    "#plt.show()\n",
    "plt.savefig(\"clstm_4.pdf\",dpi = 1000,bbox_inches='tight')"
   ]
  },
  {
   "cell_type": "code",
   "execution_count": null,
   "metadata": {},
   "outputs": [],
   "source": []
  },
  {
   "cell_type": "code",
   "execution_count": null,
   "metadata": {},
   "outputs": [],
   "source": []
  }
 ],
 "metadata": {
  "kernelspec": {
   "display_name": "Python 3",
   "language": "python",
   "name": "python3"
  },
  "language_info": {
   "codemirror_mode": {
    "name": "ipython",
    "version": 3
   },
   "file_extension": ".py",
   "mimetype": "text/x-python",
   "name": "python",
   "nbconvert_exporter": "python",
   "pygments_lexer": "ipython3",
   "version": "3.6.9"
  }
 },
 "nbformat": 4,
 "nbformat_minor": 2
}
